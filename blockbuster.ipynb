{
 "cells": [
  {
   "cell_type": "code",
   "execution_count": 1,
   "metadata": {
    "collapsed": true,
    "ExecuteTime": {
     "end_time": "2023-12-21T21:02:41.301780400Z",
     "start_time": "2023-12-21T21:02:40.181082500Z"
    }
   },
   "outputs": [],
   "source": [
    "import pandas as pd\n",
    "import json\n",
    "from scipy.stats import ttest_rel\n",
    "from scipy.stats import ttest_ind\n",
    "from scipy.stats import fisher_exact\n",
    "from scipy.stats import chi2_contingency\n",
    "from scipy.special import rel_entr\n",
    "import numpy as np\n",
    "import networkx as nx\n",
    "import statsmodels.api as sm\n",
    "import statsmodels.formula.api as smf\n",
    "import matplotlib.pyplot as plt\n",
    "import warnings\n",
    "warnings.filterwarnings(\"ignore\")"
   ]
  },
  {
   "cell_type": "code",
   "execution_count": 2,
   "outputs": [],
   "source": [
    "df = pd.read_pickle(\"actor_movie_change.pkl\")"
   ],
   "metadata": {
    "collapsed": false,
    "ExecuteTime": {
     "end_time": "2023-12-21T21:02:54.296236200Z",
     "start_time": "2023-12-21T21:02:53.793394Z"
    }
   }
  },
  {
   "cell_type": "code",
   "execution_count": 3,
   "outputs": [
    {
     "data": {
      "text/plain": "            ActorName   ActorID  ActorDOB  ActorHeight ActorGender  \\\n0        Adam Carolla  /m/010p3      1964         1.88           M   \n1        Adam Carolla  /m/010p3      1964         1.88           M   \n2        Adam Carolla  /m/010p3      1964         1.88           M   \n3        Adam Carolla  /m/010p3      1964         1.88           M   \n4        Adam Carolla  /m/010p3      1964         1.88           M   \n...               ...       ...       ...          ...         ...   \n202039  Paul Giamatti  /m/0zcbl      1967         1.74           M   \n202040  Paul Giamatti  /m/0zcbl      1967         1.74           M   \n202041  Paul Giamatti  /m/0zcbl      1967         1.74           M   \n202042  Paul Giamatti  /m/0zcbl      1967         1.74           M   \n202043  Paul Giamatti  /m/0zcbl      1967         1.74           M   \n\n        ActorAgeAtMovieRelease  Cannes  Berlin  Venice  OscarWinner  ...  \\\n0                         33.0       0       0       0            0  ...   \n1                         34.0       0       0       0            0  ...   \n2                         35.0       0       0       0            0  ...   \n3                         35.0       0       0       0            0  ...   \n4                         38.0       0       0       0            0  ...   \n...                        ...     ...     ...     ...          ...  ...   \n202039                    44.0       0       0       0            0  ...   \n202040                    44.0       0       0       0            0  ...   \n202041                    44.0       0       0       0            0  ...   \n202042                    45.0       0       0       0            0  ...   \n202043                    46.0       0       0       0            0  ...   \n\n                                      MovieGenresFinal AverageRating  \\\n0                                    [Comedy, Romance]           NaN   \n1                                             [Comedy]           NaN   \n2                                    [Comedy, Romance]          5.00   \n3                                    [Comedy, Romance]           NaN   \n4                                             [Comedy]           NaN   \n...                                                ...           ...   \n202039  [Comedy, Detective, Fantasy, Horror, Thriller]          6.30   \n202040                                         [Drama]          7.10   \n202041                                         [Drama]          5.10   \n202042                      [Comedy, Musical, Romance]          7.05   \n202043                                         [Drama]          7.50   \n\n        NumVotes  MovieBoxOfficeRevenue InflationCoeff  \\\n0            NaN                    NaN            NaN   \n1            NaN                45703.0            NaN   \n2        15579.0             24419914.0       1.573576   \n3            NaN                    NaN            NaN   \n4            NaN                    NaN            NaN   \n...          ...                    ...            ...   \n202039   39846.0                    NaN       1.180213   \n202040  228252.0             75993061.0       1.204636   \n202041   49512.0              6063556.0       1.180213   \n202042   80813.0             55518613.0       1.180213   \n202043  167970.0            112544580.0            NaN   \n\n       InflationCorrectedRevenue        WindowValue  PeriodTag  PeriodChange  \\\n0                            NaN  [Comedy, Romance]     Comedy             0   \n1                            NaN           [Comedy]     Comedy             0   \n2                   3.842659e+07           [Comedy]     Comedy             0   \n3                            NaN           [Comedy]     Comedy             0   \n4                            NaN           [Comedy]     Comedy             0   \n...                          ...                ...        ...           ...   \n202039                       NaN           [Comedy]     Comedy             0   \n202040              9.154395e+07            [Drama]      Drama             1   \n202041              7.156288e+06            [Drama]      Drama             0   \n202042              6.552379e+07            [Drama]      Drama             0   \n202043                       NaN            [Drama]      Drama             0   \n\n        ChangeCounts  \n0                  0  \n1                  0  \n2                  0  \n3                  0  \n4                  0  \n...              ...  \n202039            11  \n202040            11  \n202041            11  \n202042            11  \n202043            11  \n\n[202044 rows x 26 columns]",
      "text/html": "<div>\n<style scoped>\n    .dataframe tbody tr th:only-of-type {\n        vertical-align: middle;\n    }\n\n    .dataframe tbody tr th {\n        vertical-align: top;\n    }\n\n    .dataframe thead th {\n        text-align: right;\n    }\n</style>\n<table border=\"1\" class=\"dataframe\">\n  <thead>\n    <tr style=\"text-align: right;\">\n      <th></th>\n      <th>ActorName</th>\n      <th>ActorID</th>\n      <th>ActorDOB</th>\n      <th>ActorHeight</th>\n      <th>ActorGender</th>\n      <th>ActorAgeAtMovieRelease</th>\n      <th>Cannes</th>\n      <th>Berlin</th>\n      <th>Venice</th>\n      <th>OscarWinner</th>\n      <th>...</th>\n      <th>MovieGenresFinal</th>\n      <th>AverageRating</th>\n      <th>NumVotes</th>\n      <th>MovieBoxOfficeRevenue</th>\n      <th>InflationCoeff</th>\n      <th>InflationCorrectedRevenue</th>\n      <th>WindowValue</th>\n      <th>PeriodTag</th>\n      <th>PeriodChange</th>\n      <th>ChangeCounts</th>\n    </tr>\n  </thead>\n  <tbody>\n    <tr>\n      <th>0</th>\n      <td>Adam Carolla</td>\n      <td>/m/010p3</td>\n      <td>1964</td>\n      <td>1.88</td>\n      <td>M</td>\n      <td>33.0</td>\n      <td>0</td>\n      <td>0</td>\n      <td>0</td>\n      <td>0</td>\n      <td>...</td>\n      <td>[Comedy, Romance]</td>\n      <td>NaN</td>\n      <td>NaN</td>\n      <td>NaN</td>\n      <td>NaN</td>\n      <td>NaN</td>\n      <td>[Comedy, Romance]</td>\n      <td>Comedy</td>\n      <td>0</td>\n      <td>0</td>\n    </tr>\n    <tr>\n      <th>1</th>\n      <td>Adam Carolla</td>\n      <td>/m/010p3</td>\n      <td>1964</td>\n      <td>1.88</td>\n      <td>M</td>\n      <td>34.0</td>\n      <td>0</td>\n      <td>0</td>\n      <td>0</td>\n      <td>0</td>\n      <td>...</td>\n      <td>[Comedy]</td>\n      <td>NaN</td>\n      <td>NaN</td>\n      <td>45703.0</td>\n      <td>NaN</td>\n      <td>NaN</td>\n      <td>[Comedy]</td>\n      <td>Comedy</td>\n      <td>0</td>\n      <td>0</td>\n    </tr>\n    <tr>\n      <th>2</th>\n      <td>Adam Carolla</td>\n      <td>/m/010p3</td>\n      <td>1964</td>\n      <td>1.88</td>\n      <td>M</td>\n      <td>35.0</td>\n      <td>0</td>\n      <td>0</td>\n      <td>0</td>\n      <td>0</td>\n      <td>...</td>\n      <td>[Comedy, Romance]</td>\n      <td>5.00</td>\n      <td>15579.0</td>\n      <td>24419914.0</td>\n      <td>1.573576</td>\n      <td>3.842659e+07</td>\n      <td>[Comedy]</td>\n      <td>Comedy</td>\n      <td>0</td>\n      <td>0</td>\n    </tr>\n    <tr>\n      <th>3</th>\n      <td>Adam Carolla</td>\n      <td>/m/010p3</td>\n      <td>1964</td>\n      <td>1.88</td>\n      <td>M</td>\n      <td>35.0</td>\n      <td>0</td>\n      <td>0</td>\n      <td>0</td>\n      <td>0</td>\n      <td>...</td>\n      <td>[Comedy, Romance]</td>\n      <td>NaN</td>\n      <td>NaN</td>\n      <td>NaN</td>\n      <td>NaN</td>\n      <td>NaN</td>\n      <td>[Comedy]</td>\n      <td>Comedy</td>\n      <td>0</td>\n      <td>0</td>\n    </tr>\n    <tr>\n      <th>4</th>\n      <td>Adam Carolla</td>\n      <td>/m/010p3</td>\n      <td>1964</td>\n      <td>1.88</td>\n      <td>M</td>\n      <td>38.0</td>\n      <td>0</td>\n      <td>0</td>\n      <td>0</td>\n      <td>0</td>\n      <td>...</td>\n      <td>[Comedy]</td>\n      <td>NaN</td>\n      <td>NaN</td>\n      <td>NaN</td>\n      <td>NaN</td>\n      <td>NaN</td>\n      <td>[Comedy]</td>\n      <td>Comedy</td>\n      <td>0</td>\n      <td>0</td>\n    </tr>\n    <tr>\n      <th>...</th>\n      <td>...</td>\n      <td>...</td>\n      <td>...</td>\n      <td>...</td>\n      <td>...</td>\n      <td>...</td>\n      <td>...</td>\n      <td>...</td>\n      <td>...</td>\n      <td>...</td>\n      <td>...</td>\n      <td>...</td>\n      <td>...</td>\n      <td>...</td>\n      <td>...</td>\n      <td>...</td>\n      <td>...</td>\n      <td>...</td>\n      <td>...</td>\n      <td>...</td>\n      <td>...</td>\n    </tr>\n    <tr>\n      <th>202039</th>\n      <td>Paul Giamatti</td>\n      <td>/m/0zcbl</td>\n      <td>1967</td>\n      <td>1.74</td>\n      <td>M</td>\n      <td>44.0</td>\n      <td>0</td>\n      <td>0</td>\n      <td>0</td>\n      <td>0</td>\n      <td>...</td>\n      <td>[Comedy, Detective, Fantasy, Horror, Thriller]</td>\n      <td>6.30</td>\n      <td>39846.0</td>\n      <td>NaN</td>\n      <td>1.180213</td>\n      <td>NaN</td>\n      <td>[Comedy]</td>\n      <td>Comedy</td>\n      <td>0</td>\n      <td>11</td>\n    </tr>\n    <tr>\n      <th>202040</th>\n      <td>Paul Giamatti</td>\n      <td>/m/0zcbl</td>\n      <td>1967</td>\n      <td>1.74</td>\n      <td>M</td>\n      <td>44.0</td>\n      <td>0</td>\n      <td>0</td>\n      <td>0</td>\n      <td>0</td>\n      <td>...</td>\n      <td>[Drama]</td>\n      <td>7.10</td>\n      <td>228252.0</td>\n      <td>75993061.0</td>\n      <td>1.204636</td>\n      <td>9.154395e+07</td>\n      <td>[Drama]</td>\n      <td>Drama</td>\n      <td>1</td>\n      <td>11</td>\n    </tr>\n    <tr>\n      <th>202041</th>\n      <td>Paul Giamatti</td>\n      <td>/m/0zcbl</td>\n      <td>1967</td>\n      <td>1.74</td>\n      <td>M</td>\n      <td>44.0</td>\n      <td>0</td>\n      <td>0</td>\n      <td>0</td>\n      <td>0</td>\n      <td>...</td>\n      <td>[Drama]</td>\n      <td>5.10</td>\n      <td>49512.0</td>\n      <td>6063556.0</td>\n      <td>1.180213</td>\n      <td>7.156288e+06</td>\n      <td>[Drama]</td>\n      <td>Drama</td>\n      <td>0</td>\n      <td>11</td>\n    </tr>\n    <tr>\n      <th>202042</th>\n      <td>Paul Giamatti</td>\n      <td>/m/0zcbl</td>\n      <td>1967</td>\n      <td>1.74</td>\n      <td>M</td>\n      <td>45.0</td>\n      <td>0</td>\n      <td>0</td>\n      <td>0</td>\n      <td>0</td>\n      <td>...</td>\n      <td>[Comedy, Musical, Romance]</td>\n      <td>7.05</td>\n      <td>80813.0</td>\n      <td>55518613.0</td>\n      <td>1.180213</td>\n      <td>6.552379e+07</td>\n      <td>[Drama]</td>\n      <td>Drama</td>\n      <td>0</td>\n      <td>11</td>\n    </tr>\n    <tr>\n      <th>202043</th>\n      <td>Paul Giamatti</td>\n      <td>/m/0zcbl</td>\n      <td>1967</td>\n      <td>1.74</td>\n      <td>M</td>\n      <td>46.0</td>\n      <td>0</td>\n      <td>0</td>\n      <td>0</td>\n      <td>0</td>\n      <td>...</td>\n      <td>[Drama]</td>\n      <td>7.50</td>\n      <td>167970.0</td>\n      <td>112544580.0</td>\n      <td>NaN</td>\n      <td>NaN</td>\n      <td>[Drama]</td>\n      <td>Drama</td>\n      <td>0</td>\n      <td>11</td>\n    </tr>\n  </tbody>\n</table>\n<p>202044 rows × 26 columns</p>\n</div>"
     },
     "execution_count": 3,
     "metadata": {},
     "output_type": "execute_result"
    }
   ],
   "source": [
    "df"
   ],
   "metadata": {
    "collapsed": false,
    "ExecuteTime": {
     "end_time": "2023-12-21T21:02:59.526578800Z",
     "start_time": "2023-12-21T21:02:59.382158300Z"
    }
   }
  },
  {
   "cell_type": "code",
   "execution_count": 4,
   "outputs": [],
   "source": [
    "# Step 1: Calculating the proportion of valid values in InflationCorrectedRevenue and AverageRating for each actor\n",
    "def calculate_valid_proportions(actor_data):\n",
    "    valid_revenue_proportion = actor_data['InflationCorrectedRevenue'].notna().mean()\n",
    "    valid_rating_proportion = actor_data['AverageRating'].notna().mean()\n",
    "    return valid_revenue_proportion, valid_rating_proportion\n",
    "\n",
    "valid_proportions_by_actor = df.groupby('ActorID').apply(calculate_valid_proportions)\n",
    "\n",
    "# Step 2: Filtering actors with 50% or more valid values in both InflationCorrectedRevenue and AverageRating\n",
    "actors_with_high_valid_proportions = valid_proportions_by_actor[(valid_proportions_by_actor.apply(lambda x: x[0] >= 0.5 and x[1] >= 0.5))]\n",
    "\n",
    "actors_with_high_valid_proportions_index = actors_with_high_valid_proportions.index\n",
    "\n",
    "# Filtering the dataset for these actors\n",
    "actors_valid = df[df['ActorID'].isin(actors_with_high_valid_proportions_index)]"
   ],
   "metadata": {
    "collapsed": false,
    "ExecuteTime": {
     "end_time": "2023-12-21T21:05:08.736251100Z",
     "start_time": "2023-12-21T21:05:04.826125100Z"
    }
   }
  }
 ],
 "metadata": {
  "kernelspec": {
   "display_name": "Python 3",
   "language": "python",
   "name": "python3"
  },
  "language_info": {
   "codemirror_mode": {
    "name": "ipython",
    "version": 2
   },
   "file_extension": ".py",
   "mimetype": "text/x-python",
   "name": "python",
   "nbconvert_exporter": "python",
   "pygments_lexer": "ipython2",
   "version": "2.7.6"
  }
 },
 "nbformat": 4,
 "nbformat_minor": 0
}
