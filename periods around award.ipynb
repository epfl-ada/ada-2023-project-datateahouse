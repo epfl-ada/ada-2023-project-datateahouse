{
 "cells": [
  {
   "cell_type": "code",
   "execution_count": 1,
   "metadata": {
    "collapsed": true,
    "ExecuteTime": {
     "end_time": "2023-12-22T09:32:27.485452900Z",
     "start_time": "2023-12-22T09:32:26.653513700Z"
    }
   },
   "outputs": [],
   "source": [
    "import pandas as pd\n",
    "import json"
   ]
  },
  {
   "cell_type": "code",
   "execution_count": 2,
   "outputs": [
    {
     "data": {
      "text/plain": "         ActorID       ActorName ActorGender  PeriodTag PeriodLength  \\\n0       /m/010p3    Adam Carolla           M     Comedy         14.0   \n1      /m/010xjr  Richard Harris           M  Adventure          6.0   \n2      /m/010xjr  Richard Harris           M      Drama          1.0   \n3      /m/010xjr  Richard Harris           M    Romance            1   \n4      /m/010xjr  Richard Harris           M      Crime            1   \n...          ...             ...         ...        ...          ...   \n76622   /m/0zcbl   Paul Giamatti           M    Romance          1.0   \n76623   /m/0zcbl   Paul Giamatti           M     Comedy          4.0   \n76624   /m/0zcbl   Paul Giamatti           M      Drama            1   \n76625   /m/0zcbl   Paul Giamatti           M     Comedy          1.0   \n76626   /m/0zcbl   Paul Giamatti           M      Drama          2.0   \n\n      ActorAgeAtMovieRelease MovieReleaseDate  CareerLength  \n0                       33.0             1997          14.0  \n1                       28.0             1958          44.0  \n2                       35.0             1966          44.0  \n3                       37.0             1967          44.0  \n4                       39.0             1969          44.0  \n...                      ...              ...           ...  \n76622                   37.0             2005          22.0  \n76623                   39.0             2006          22.0  \n76624                   43.0             2010          22.0  \n76625                   43.0             2011          22.0  \n76626                   44.0             2011          22.0  \n\n[76627 rows x 8 columns]",
      "text/html": "<div>\n<style scoped>\n    .dataframe tbody tr th:only-of-type {\n        vertical-align: middle;\n    }\n\n    .dataframe tbody tr th {\n        vertical-align: top;\n    }\n\n    .dataframe thead th {\n        text-align: right;\n    }\n</style>\n<table border=\"1\" class=\"dataframe\">\n  <thead>\n    <tr style=\"text-align: right;\">\n      <th></th>\n      <th>ActorID</th>\n      <th>ActorName</th>\n      <th>ActorGender</th>\n      <th>PeriodTag</th>\n      <th>PeriodLength</th>\n      <th>ActorAgeAtMovieRelease</th>\n      <th>MovieReleaseDate</th>\n      <th>CareerLength</th>\n    </tr>\n  </thead>\n  <tbody>\n    <tr>\n      <th>0</th>\n      <td>/m/010p3</td>\n      <td>Adam Carolla</td>\n      <td>M</td>\n      <td>Comedy</td>\n      <td>14.0</td>\n      <td>33.0</td>\n      <td>1997</td>\n      <td>14.0</td>\n    </tr>\n    <tr>\n      <th>1</th>\n      <td>/m/010xjr</td>\n      <td>Richard Harris</td>\n      <td>M</td>\n      <td>Adventure</td>\n      <td>6.0</td>\n      <td>28.0</td>\n      <td>1958</td>\n      <td>44.0</td>\n    </tr>\n    <tr>\n      <th>2</th>\n      <td>/m/010xjr</td>\n      <td>Richard Harris</td>\n      <td>M</td>\n      <td>Drama</td>\n      <td>1.0</td>\n      <td>35.0</td>\n      <td>1966</td>\n      <td>44.0</td>\n    </tr>\n    <tr>\n      <th>3</th>\n      <td>/m/010xjr</td>\n      <td>Richard Harris</td>\n      <td>M</td>\n      <td>Romance</td>\n      <td>1</td>\n      <td>37.0</td>\n      <td>1967</td>\n      <td>44.0</td>\n    </tr>\n    <tr>\n      <th>4</th>\n      <td>/m/010xjr</td>\n      <td>Richard Harris</td>\n      <td>M</td>\n      <td>Crime</td>\n      <td>1</td>\n      <td>39.0</td>\n      <td>1969</td>\n      <td>44.0</td>\n    </tr>\n    <tr>\n      <th>...</th>\n      <td>...</td>\n      <td>...</td>\n      <td>...</td>\n      <td>...</td>\n      <td>...</td>\n      <td>...</td>\n      <td>...</td>\n      <td>...</td>\n    </tr>\n    <tr>\n      <th>76622</th>\n      <td>/m/0zcbl</td>\n      <td>Paul Giamatti</td>\n      <td>M</td>\n      <td>Romance</td>\n      <td>1.0</td>\n      <td>37.0</td>\n      <td>2005</td>\n      <td>22.0</td>\n    </tr>\n    <tr>\n      <th>76623</th>\n      <td>/m/0zcbl</td>\n      <td>Paul Giamatti</td>\n      <td>M</td>\n      <td>Comedy</td>\n      <td>4.0</td>\n      <td>39.0</td>\n      <td>2006</td>\n      <td>22.0</td>\n    </tr>\n    <tr>\n      <th>76624</th>\n      <td>/m/0zcbl</td>\n      <td>Paul Giamatti</td>\n      <td>M</td>\n      <td>Drama</td>\n      <td>1</td>\n      <td>43.0</td>\n      <td>2010</td>\n      <td>22.0</td>\n    </tr>\n    <tr>\n      <th>76625</th>\n      <td>/m/0zcbl</td>\n      <td>Paul Giamatti</td>\n      <td>M</td>\n      <td>Comedy</td>\n      <td>1.0</td>\n      <td>43.0</td>\n      <td>2011</td>\n      <td>22.0</td>\n    </tr>\n    <tr>\n      <th>76626</th>\n      <td>/m/0zcbl</td>\n      <td>Paul Giamatti</td>\n      <td>M</td>\n      <td>Drama</td>\n      <td>2.0</td>\n      <td>44.0</td>\n      <td>2011</td>\n      <td>22.0</td>\n    </tr>\n  </tbody>\n</table>\n<p>76627 rows × 8 columns</p>\n</div>"
     },
     "execution_count": 2,
     "metadata": {},
     "output_type": "execute_result"
    }
   ],
   "source": [
    "p = pd.read_pickle('actor_period.pkl')\n",
    "p"
   ],
   "metadata": {
    "collapsed": false,
    "ExecuteTime": {
     "end_time": "2023-12-22T09:32:28.826953400Z",
     "start_time": "2023-12-22T09:32:28.700784100Z"
    }
   }
  },
  {
   "cell_type": "code",
   "execution_count": 3,
   "outputs": [],
   "source": [
    "df = pd.read_pickle(\"actor_movie_change.pkl\")"
   ],
   "metadata": {
    "collapsed": false,
    "ExecuteTime": {
     "end_time": "2023-12-22T09:32:37.849340800Z",
     "start_time": "2023-12-22T09:32:37.349201300Z"
    }
   }
  },
  {
   "cell_type": "code",
   "execution_count": 4,
   "outputs": [
    {
     "data": {
      "text/plain": "       index        ActorName    ActorID  ActorDOB  ActorHeight ActorGender  \\\n0         73   Toshiro Mifune  /m/0112yl      1920         1.74           M   \n1         95      Lily Tomlin  /m/011_3s      1939         1.73           F   \n2        118  Vivien Merchant  /m/011_c4      1929          NaN           F   \n3        127   Chester Morris  /m/011_pk      1901          NaN           M   \n4        285   Jackie Gleason  /m/0121rx      1916         1.77           M   \n...      ...              ...        ...       ...          ...         ...   \n1419  201946  Anthony Hopkins    /m/0z4s      1937         1.74           M   \n1420  201955  Anthony Hopkins    /m/0z4s      1937         1.74           M   \n1421  201958  Anthony Hopkins    /m/0z4s      1937         1.74           M   \n1422  201961  Anthony Hopkins    /m/0z4s      1937         1.74           M   \n1423  202022    Paul Giamatti   /m/0zcbl      1967         1.74           M   \n\n      ActorAgeAtMovieRelease  Cannes  Berlin  Venice  ...  AverageRating  \\\n0                       41.0       0       0       1  ...            8.2   \n1                       37.0       0       1       0  ...            6.9   \n2                       37.0       0       0       0  ...            7.0   \n3                       28.0       0       0       0  ...            5.7   \n4                       45.0       0       0       0  ...            8.0   \n...                      ...     ...     ...     ...  ...            ...   \n1419                    53.0       0       0       0  ...            8.6   \n1420                    55.0       0       0       0  ...            7.8   \n1421                    57.0       0       0       0  ...            7.1   \n1422                    59.0       0       0       0  ...            7.3   \n1423                    37.0       0       0       0  ...            7.5   \n\n       NumVotes MovieBoxOfficeRevenue  InflationCoeff  \\\n0      128624.0                   NaN        9.065060   \n1        3134.0                   NaN        4.470833   \n2       15474.0                   NaN        8.348234   \n3         906.0                   NaN             NaN   \n4       85486.0             7600000.0        9.065060   \n...         ...                   ...             ...   \n1419  1505617.0           272742922.0        1.989621   \n1420    81357.0            63954968.0        1.875764   \n1421    32258.0            13560960.0        1.778211   \n1422    81425.0            44229441.0        1.688110   \n1423   195086.0           108539911.0        1.387513   \n\n      InflationCorrectedRevenue  \\\n0                           NaN   \n1                           NaN   \n2                           NaN   \n3                           NaN   \n4                  6.889446e+07   \n...                         ...   \n1419               5.426549e+08   \n1420               1.199644e+08   \n1421               2.411425e+07   \n1422               7.466415e+07   \n1423               1.506006e+08   \n\n                                            WindowValue  PeriodTag  \\\n0                                 [Adventure, Thriller]   Thriller   \n1     [Action, Adventure, Comedy, Crime, Detective, ...    Romance   \n2                                             [Romance]    Romance   \n3                                    [Action, Thriller]   Thriller   \n4                                   [Action, Adventure]  Adventure   \n...                                                 ...        ...   \n1419                                  [Crime, Thriller]      Crime   \n1420                                          [Romance]    Romance   \n1421                                          [Romance]    Romance   \n1422                                          [Romance]    Romance   \n1423                                         [Thriller]    Romance   \n\n     PeriodChange  ChangeCounts  Awarded  \n0               0             9     True  \n1               0             1     True  \n2               0             3     True  \n3               1             9     True  \n4               0             5     True  \n...           ...           ...      ...  \n1419            0            30     True  \n1420            0            30     True  \n1421            0            30     True  \n1422            0            30     True  \n1423            1            11     True  \n\n[1424 rows x 28 columns]",
      "text/html": "<div>\n<style scoped>\n    .dataframe tbody tr th:only-of-type {\n        vertical-align: middle;\n    }\n\n    .dataframe tbody tr th {\n        vertical-align: top;\n    }\n\n    .dataframe thead th {\n        text-align: right;\n    }\n</style>\n<table border=\"1\" class=\"dataframe\">\n  <thead>\n    <tr style=\"text-align: right;\">\n      <th></th>\n      <th>index</th>\n      <th>ActorName</th>\n      <th>ActorID</th>\n      <th>ActorDOB</th>\n      <th>ActorHeight</th>\n      <th>ActorGender</th>\n      <th>ActorAgeAtMovieRelease</th>\n      <th>Cannes</th>\n      <th>Berlin</th>\n      <th>Venice</th>\n      <th>...</th>\n      <th>AverageRating</th>\n      <th>NumVotes</th>\n      <th>MovieBoxOfficeRevenue</th>\n      <th>InflationCoeff</th>\n      <th>InflationCorrectedRevenue</th>\n      <th>WindowValue</th>\n      <th>PeriodTag</th>\n      <th>PeriodChange</th>\n      <th>ChangeCounts</th>\n      <th>Awarded</th>\n    </tr>\n  </thead>\n  <tbody>\n    <tr>\n      <th>0</th>\n      <td>73</td>\n      <td>Toshiro Mifune</td>\n      <td>/m/0112yl</td>\n      <td>1920</td>\n      <td>1.74</td>\n      <td>M</td>\n      <td>41.0</td>\n      <td>0</td>\n      <td>0</td>\n      <td>1</td>\n      <td>...</td>\n      <td>8.2</td>\n      <td>128624.0</td>\n      <td>NaN</td>\n      <td>9.065060</td>\n      <td>NaN</td>\n      <td>[Adventure, Thriller]</td>\n      <td>Thriller</td>\n      <td>0</td>\n      <td>9</td>\n      <td>True</td>\n    </tr>\n    <tr>\n      <th>1</th>\n      <td>95</td>\n      <td>Lily Tomlin</td>\n      <td>/m/011_3s</td>\n      <td>1939</td>\n      <td>1.73</td>\n      <td>F</td>\n      <td>37.0</td>\n      <td>0</td>\n      <td>1</td>\n      <td>0</td>\n      <td>...</td>\n      <td>6.9</td>\n      <td>3134.0</td>\n      <td>NaN</td>\n      <td>4.470833</td>\n      <td>NaN</td>\n      <td>[Action, Adventure, Comedy, Crime, Detective, ...</td>\n      <td>Romance</td>\n      <td>0</td>\n      <td>1</td>\n      <td>True</td>\n    </tr>\n    <tr>\n      <th>2</th>\n      <td>118</td>\n      <td>Vivien Merchant</td>\n      <td>/m/011_c4</td>\n      <td>1929</td>\n      <td>NaN</td>\n      <td>F</td>\n      <td>37.0</td>\n      <td>0</td>\n      <td>0</td>\n      <td>0</td>\n      <td>...</td>\n      <td>7.0</td>\n      <td>15474.0</td>\n      <td>NaN</td>\n      <td>8.348234</td>\n      <td>NaN</td>\n      <td>[Romance]</td>\n      <td>Romance</td>\n      <td>0</td>\n      <td>3</td>\n      <td>True</td>\n    </tr>\n    <tr>\n      <th>3</th>\n      <td>127</td>\n      <td>Chester Morris</td>\n      <td>/m/011_pk</td>\n      <td>1901</td>\n      <td>NaN</td>\n      <td>M</td>\n      <td>28.0</td>\n      <td>0</td>\n      <td>0</td>\n      <td>0</td>\n      <td>...</td>\n      <td>5.7</td>\n      <td>906.0</td>\n      <td>NaN</td>\n      <td>NaN</td>\n      <td>NaN</td>\n      <td>[Action, Thriller]</td>\n      <td>Thriller</td>\n      <td>1</td>\n      <td>9</td>\n      <td>True</td>\n    </tr>\n    <tr>\n      <th>4</th>\n      <td>285</td>\n      <td>Jackie Gleason</td>\n      <td>/m/0121rx</td>\n      <td>1916</td>\n      <td>1.77</td>\n      <td>M</td>\n      <td>45.0</td>\n      <td>0</td>\n      <td>0</td>\n      <td>0</td>\n      <td>...</td>\n      <td>8.0</td>\n      <td>85486.0</td>\n      <td>7600000.0</td>\n      <td>9.065060</td>\n      <td>6.889446e+07</td>\n      <td>[Action, Adventure]</td>\n      <td>Adventure</td>\n      <td>0</td>\n      <td>5</td>\n      <td>True</td>\n    </tr>\n    <tr>\n      <th>...</th>\n      <td>...</td>\n      <td>...</td>\n      <td>...</td>\n      <td>...</td>\n      <td>...</td>\n      <td>...</td>\n      <td>...</td>\n      <td>...</td>\n      <td>...</td>\n      <td>...</td>\n      <td>...</td>\n      <td>...</td>\n      <td>...</td>\n      <td>...</td>\n      <td>...</td>\n      <td>...</td>\n      <td>...</td>\n      <td>...</td>\n      <td>...</td>\n      <td>...</td>\n      <td>...</td>\n    </tr>\n    <tr>\n      <th>1419</th>\n      <td>201946</td>\n      <td>Anthony Hopkins</td>\n      <td>/m/0z4s</td>\n      <td>1937</td>\n      <td>1.74</td>\n      <td>M</td>\n      <td>53.0</td>\n      <td>0</td>\n      <td>0</td>\n      <td>0</td>\n      <td>...</td>\n      <td>8.6</td>\n      <td>1505617.0</td>\n      <td>272742922.0</td>\n      <td>1.989621</td>\n      <td>5.426549e+08</td>\n      <td>[Crime, Thriller]</td>\n      <td>Crime</td>\n      <td>0</td>\n      <td>30</td>\n      <td>True</td>\n    </tr>\n    <tr>\n      <th>1420</th>\n      <td>201955</td>\n      <td>Anthony Hopkins</td>\n      <td>/m/0z4s</td>\n      <td>1937</td>\n      <td>1.74</td>\n      <td>M</td>\n      <td>55.0</td>\n      <td>0</td>\n      <td>0</td>\n      <td>0</td>\n      <td>...</td>\n      <td>7.8</td>\n      <td>81357.0</td>\n      <td>63954968.0</td>\n      <td>1.875764</td>\n      <td>1.199644e+08</td>\n      <td>[Romance]</td>\n      <td>Romance</td>\n      <td>0</td>\n      <td>30</td>\n      <td>True</td>\n    </tr>\n    <tr>\n      <th>1421</th>\n      <td>201958</td>\n      <td>Anthony Hopkins</td>\n      <td>/m/0z4s</td>\n      <td>1937</td>\n      <td>1.74</td>\n      <td>M</td>\n      <td>57.0</td>\n      <td>0</td>\n      <td>0</td>\n      <td>0</td>\n      <td>...</td>\n      <td>7.1</td>\n      <td>32258.0</td>\n      <td>13560960.0</td>\n      <td>1.778211</td>\n      <td>2.411425e+07</td>\n      <td>[Romance]</td>\n      <td>Romance</td>\n      <td>0</td>\n      <td>30</td>\n      <td>True</td>\n    </tr>\n    <tr>\n      <th>1422</th>\n      <td>201961</td>\n      <td>Anthony Hopkins</td>\n      <td>/m/0z4s</td>\n      <td>1937</td>\n      <td>1.74</td>\n      <td>M</td>\n      <td>59.0</td>\n      <td>0</td>\n      <td>0</td>\n      <td>0</td>\n      <td>...</td>\n      <td>7.3</td>\n      <td>81425.0</td>\n      <td>44229441.0</td>\n      <td>1.688110</td>\n      <td>7.466415e+07</td>\n      <td>[Romance]</td>\n      <td>Romance</td>\n      <td>0</td>\n      <td>30</td>\n      <td>True</td>\n    </tr>\n    <tr>\n      <th>1423</th>\n      <td>202022</td>\n      <td>Paul Giamatti</td>\n      <td>/m/0zcbl</td>\n      <td>1967</td>\n      <td>1.74</td>\n      <td>M</td>\n      <td>37.0</td>\n      <td>0</td>\n      <td>0</td>\n      <td>0</td>\n      <td>...</td>\n      <td>7.5</td>\n      <td>195086.0</td>\n      <td>108539911.0</td>\n      <td>1.387513</td>\n      <td>1.506006e+08</td>\n      <td>[Thriller]</td>\n      <td>Romance</td>\n      <td>1</td>\n      <td>11</td>\n      <td>True</td>\n    </tr>\n  </tbody>\n</table>\n<p>1424 rows × 28 columns</p>\n</div>"
     },
     "execution_count": 4,
     "metadata": {},
     "output_type": "execute_result"
    }
   ],
   "source": [
    "# Adding the original index to the awards data\n",
    "df_awarded = df.copy()\n",
    "awards_columns = ['Cannes', 'Berlin', 'Venice', 'OscarWinner', 'OscarNomination']\n",
    "df_awarded['Awarded'] = (df[awards_columns] == 1).any(axis=1)\n",
    "\n",
    "# Retaining the original index\n",
    "df_reindexed = df_awarded[df_awarded['Awarded']]\n",
    "df_reindexed.reset_index(inplace=True)\n",
    "\n",
    "df_reindexed"
   ],
   "metadata": {
    "collapsed": false,
    "ExecuteTime": {
     "end_time": "2023-12-22T09:32:39.496418200Z",
     "start_time": "2023-12-22T09:32:39.435317800Z"
    }
   }
  },
  {
   "cell_type": "code",
   "execution_count": 5,
   "outputs": [
    {
     "data": {
      "text/plain": "            ActorName   ActorID  ActorDOB  ActorHeight ActorGender  \\\n0        Adam Carolla  /m/010p3      1964         1.88           M   \n1        Adam Carolla  /m/010p3      1964         1.88           M   \n2        Adam Carolla  /m/010p3      1964         1.88           M   \n3        Adam Carolla  /m/010p3      1964         1.88           M   \n4        Adam Carolla  /m/010p3      1964         1.88           M   \n...               ...       ...       ...          ...         ...   \n202039  Paul Giamatti  /m/0zcbl      1967         1.74           M   \n202040  Paul Giamatti  /m/0zcbl      1967         1.74           M   \n202041  Paul Giamatti  /m/0zcbl      1967         1.74           M   \n202042  Paul Giamatti  /m/0zcbl      1967         1.74           M   \n202043  Paul Giamatti  /m/0zcbl      1967         1.74           M   \n\n        ActorAgeAtMovieRelease  Cannes  Berlin  Venice  OscarWinner  ...  \\\n0                         33.0       0       0       0            0  ...   \n1                         34.0       0       0       0            0  ...   \n2                         35.0       0       0       0            0  ...   \n3                         35.0       0       0       0            0  ...   \n4                         38.0       0       0       0            0  ...   \n...                        ...     ...     ...     ...          ...  ...   \n202039                    44.0       0       0       0            0  ...   \n202040                    44.0       0       0       0            0  ...   \n202041                    44.0       0       0       0            0  ...   \n202042                    45.0       0       0       0            0  ...   \n202043                    46.0       0       0       0            0  ...   \n\n        AverageRating  NumVotes  MovieBoxOfficeRevenue  InflationCoeff  \\\n0                 NaN       NaN                    NaN             NaN   \n1                 NaN       NaN                45703.0             NaN   \n2                5.00   15579.0             24419914.0        1.573576   \n3                 NaN       NaN                    NaN             NaN   \n4                 NaN       NaN                    NaN             NaN   \n...               ...       ...                    ...             ...   \n202039           6.30   39846.0                    NaN        1.180213   \n202040           7.10  228252.0             75993061.0        1.204636   \n202041           5.10   49512.0              6063556.0        1.180213   \n202042           7.05   80813.0             55518613.0        1.180213   \n202043           7.50  167970.0            112544580.0             NaN   \n\n       InflationCorrectedRevenue        WindowValue PeriodTag  PeriodChange  \\\n0                            NaN  [Comedy, Romance]    Comedy             0   \n1                            NaN           [Comedy]    Comedy             0   \n2                   3.842659e+07           [Comedy]    Comedy             0   \n3                            NaN           [Comedy]    Comedy             0   \n4                            NaN           [Comedy]    Comedy             0   \n...                          ...                ...       ...           ...   \n202039                       NaN           [Comedy]    Comedy             0   \n202040              9.154395e+07            [Drama]     Drama             1   \n202041              7.156288e+06            [Drama]     Drama             0   \n202042              6.552379e+07            [Drama]     Drama             0   \n202043                       NaN            [Drama]     Drama             0   \n\n        ChangeCounts  Awarded  \n0                  0    False  \n1                  0    False  \n2                  0    False  \n3                  0    False  \n4                  0    False  \n...              ...      ...  \n202039            11    False  \n202040            11    False  \n202041            11    False  \n202042            11    False  \n202043            11    False  \n\n[202044 rows x 27 columns]",
      "text/html": "<div>\n<style scoped>\n    .dataframe tbody tr th:only-of-type {\n        vertical-align: middle;\n    }\n\n    .dataframe tbody tr th {\n        vertical-align: top;\n    }\n\n    .dataframe thead th {\n        text-align: right;\n    }\n</style>\n<table border=\"1\" class=\"dataframe\">\n  <thead>\n    <tr style=\"text-align: right;\">\n      <th></th>\n      <th>ActorName</th>\n      <th>ActorID</th>\n      <th>ActorDOB</th>\n      <th>ActorHeight</th>\n      <th>ActorGender</th>\n      <th>ActorAgeAtMovieRelease</th>\n      <th>Cannes</th>\n      <th>Berlin</th>\n      <th>Venice</th>\n      <th>OscarWinner</th>\n      <th>...</th>\n      <th>AverageRating</th>\n      <th>NumVotes</th>\n      <th>MovieBoxOfficeRevenue</th>\n      <th>InflationCoeff</th>\n      <th>InflationCorrectedRevenue</th>\n      <th>WindowValue</th>\n      <th>PeriodTag</th>\n      <th>PeriodChange</th>\n      <th>ChangeCounts</th>\n      <th>Awarded</th>\n    </tr>\n  </thead>\n  <tbody>\n    <tr>\n      <th>0</th>\n      <td>Adam Carolla</td>\n      <td>/m/010p3</td>\n      <td>1964</td>\n      <td>1.88</td>\n      <td>M</td>\n      <td>33.0</td>\n      <td>0</td>\n      <td>0</td>\n      <td>0</td>\n      <td>0</td>\n      <td>...</td>\n      <td>NaN</td>\n      <td>NaN</td>\n      <td>NaN</td>\n      <td>NaN</td>\n      <td>NaN</td>\n      <td>[Comedy, Romance]</td>\n      <td>Comedy</td>\n      <td>0</td>\n      <td>0</td>\n      <td>False</td>\n    </tr>\n    <tr>\n      <th>1</th>\n      <td>Adam Carolla</td>\n      <td>/m/010p3</td>\n      <td>1964</td>\n      <td>1.88</td>\n      <td>M</td>\n      <td>34.0</td>\n      <td>0</td>\n      <td>0</td>\n      <td>0</td>\n      <td>0</td>\n      <td>...</td>\n      <td>NaN</td>\n      <td>NaN</td>\n      <td>45703.0</td>\n      <td>NaN</td>\n      <td>NaN</td>\n      <td>[Comedy]</td>\n      <td>Comedy</td>\n      <td>0</td>\n      <td>0</td>\n      <td>False</td>\n    </tr>\n    <tr>\n      <th>2</th>\n      <td>Adam Carolla</td>\n      <td>/m/010p3</td>\n      <td>1964</td>\n      <td>1.88</td>\n      <td>M</td>\n      <td>35.0</td>\n      <td>0</td>\n      <td>0</td>\n      <td>0</td>\n      <td>0</td>\n      <td>...</td>\n      <td>5.00</td>\n      <td>15579.0</td>\n      <td>24419914.0</td>\n      <td>1.573576</td>\n      <td>3.842659e+07</td>\n      <td>[Comedy]</td>\n      <td>Comedy</td>\n      <td>0</td>\n      <td>0</td>\n      <td>False</td>\n    </tr>\n    <tr>\n      <th>3</th>\n      <td>Adam Carolla</td>\n      <td>/m/010p3</td>\n      <td>1964</td>\n      <td>1.88</td>\n      <td>M</td>\n      <td>35.0</td>\n      <td>0</td>\n      <td>0</td>\n      <td>0</td>\n      <td>0</td>\n      <td>...</td>\n      <td>NaN</td>\n      <td>NaN</td>\n      <td>NaN</td>\n      <td>NaN</td>\n      <td>NaN</td>\n      <td>[Comedy]</td>\n      <td>Comedy</td>\n      <td>0</td>\n      <td>0</td>\n      <td>False</td>\n    </tr>\n    <tr>\n      <th>4</th>\n      <td>Adam Carolla</td>\n      <td>/m/010p3</td>\n      <td>1964</td>\n      <td>1.88</td>\n      <td>M</td>\n      <td>38.0</td>\n      <td>0</td>\n      <td>0</td>\n      <td>0</td>\n      <td>0</td>\n      <td>...</td>\n      <td>NaN</td>\n      <td>NaN</td>\n      <td>NaN</td>\n      <td>NaN</td>\n      <td>NaN</td>\n      <td>[Comedy]</td>\n      <td>Comedy</td>\n      <td>0</td>\n      <td>0</td>\n      <td>False</td>\n    </tr>\n    <tr>\n      <th>...</th>\n      <td>...</td>\n      <td>...</td>\n      <td>...</td>\n      <td>...</td>\n      <td>...</td>\n      <td>...</td>\n      <td>...</td>\n      <td>...</td>\n      <td>...</td>\n      <td>...</td>\n      <td>...</td>\n      <td>...</td>\n      <td>...</td>\n      <td>...</td>\n      <td>...</td>\n      <td>...</td>\n      <td>...</td>\n      <td>...</td>\n      <td>...</td>\n      <td>...</td>\n      <td>...</td>\n    </tr>\n    <tr>\n      <th>202039</th>\n      <td>Paul Giamatti</td>\n      <td>/m/0zcbl</td>\n      <td>1967</td>\n      <td>1.74</td>\n      <td>M</td>\n      <td>44.0</td>\n      <td>0</td>\n      <td>0</td>\n      <td>0</td>\n      <td>0</td>\n      <td>...</td>\n      <td>6.30</td>\n      <td>39846.0</td>\n      <td>NaN</td>\n      <td>1.180213</td>\n      <td>NaN</td>\n      <td>[Comedy]</td>\n      <td>Comedy</td>\n      <td>0</td>\n      <td>11</td>\n      <td>False</td>\n    </tr>\n    <tr>\n      <th>202040</th>\n      <td>Paul Giamatti</td>\n      <td>/m/0zcbl</td>\n      <td>1967</td>\n      <td>1.74</td>\n      <td>M</td>\n      <td>44.0</td>\n      <td>0</td>\n      <td>0</td>\n      <td>0</td>\n      <td>0</td>\n      <td>...</td>\n      <td>7.10</td>\n      <td>228252.0</td>\n      <td>75993061.0</td>\n      <td>1.204636</td>\n      <td>9.154395e+07</td>\n      <td>[Drama]</td>\n      <td>Drama</td>\n      <td>1</td>\n      <td>11</td>\n      <td>False</td>\n    </tr>\n    <tr>\n      <th>202041</th>\n      <td>Paul Giamatti</td>\n      <td>/m/0zcbl</td>\n      <td>1967</td>\n      <td>1.74</td>\n      <td>M</td>\n      <td>44.0</td>\n      <td>0</td>\n      <td>0</td>\n      <td>0</td>\n      <td>0</td>\n      <td>...</td>\n      <td>5.10</td>\n      <td>49512.0</td>\n      <td>6063556.0</td>\n      <td>1.180213</td>\n      <td>7.156288e+06</td>\n      <td>[Drama]</td>\n      <td>Drama</td>\n      <td>0</td>\n      <td>11</td>\n      <td>False</td>\n    </tr>\n    <tr>\n      <th>202042</th>\n      <td>Paul Giamatti</td>\n      <td>/m/0zcbl</td>\n      <td>1967</td>\n      <td>1.74</td>\n      <td>M</td>\n      <td>45.0</td>\n      <td>0</td>\n      <td>0</td>\n      <td>0</td>\n      <td>0</td>\n      <td>...</td>\n      <td>7.05</td>\n      <td>80813.0</td>\n      <td>55518613.0</td>\n      <td>1.180213</td>\n      <td>6.552379e+07</td>\n      <td>[Drama]</td>\n      <td>Drama</td>\n      <td>0</td>\n      <td>11</td>\n      <td>False</td>\n    </tr>\n    <tr>\n      <th>202043</th>\n      <td>Paul Giamatti</td>\n      <td>/m/0zcbl</td>\n      <td>1967</td>\n      <td>1.74</td>\n      <td>M</td>\n      <td>46.0</td>\n      <td>0</td>\n      <td>0</td>\n      <td>0</td>\n      <td>0</td>\n      <td>...</td>\n      <td>7.50</td>\n      <td>167970.0</td>\n      <td>112544580.0</td>\n      <td>NaN</td>\n      <td>NaN</td>\n      <td>[Drama]</td>\n      <td>Drama</td>\n      <td>0</td>\n      <td>11</td>\n      <td>False</td>\n    </tr>\n  </tbody>\n</table>\n<p>202044 rows × 27 columns</p>\n</div>"
     },
     "execution_count": 5,
     "metadata": {},
     "output_type": "execute_result"
    }
   ],
   "source": [
    "df_awarded"
   ],
   "metadata": {
    "collapsed": false,
    "ExecuteTime": {
     "end_time": "2023-12-22T09:32:41.784913800Z",
     "start_time": "2023-12-22T09:32:41.684725700Z"
    }
   }
  },
  {
   "cell_type": "code",
   "execution_count": 6,
   "outputs": [
    {
     "name": "stderr",
     "output_type": "stream",
     "text": [
      "C:\\Users\\Theodore\\AppData\\Local\\Temp\\ipykernel_23192\\2005042101.py:7: SettingWithCopyWarning: \n",
      "A value is trying to be set on a copy of a slice from a DataFrame.\n",
      "Try using .loc[row_indexer,col_indexer] = value instead\n",
      "\n",
      "See the caveats in the documentation: https://pandas.pydata.org/pandas-docs/stable/user_guide/indexing.html#returning-a-view-versus-a-copy\n",
      "  df_reindexed['intersect'] = df_reindexed.apply(lambda row: row['PeriodTag'] in row['MovieGenresFinal'], axis=1)\n"
     ]
    }
   ],
   "source": [
    "def if_intersect(df):\n",
    "    if df['PeriodTag'][0] in df['MovieGenresFinal'][0]:\n",
    "        return True\n",
    "    else:\n",
    "        return False\n",
    "\n",
    "df_reindexed['intersect'] = df_reindexed.apply(lambda row: row['PeriodTag'] in row['MovieGenresFinal'], axis=1)\n",
    "df_reindexed_selected = df_reindexed[df_reindexed['intersect']]"
   ],
   "metadata": {
    "collapsed": false,
    "ExecuteTime": {
     "end_time": "2023-12-22T09:32:43.940884300Z",
     "start_time": "2023-12-22T09:32:43.907895700Z"
    }
   }
  },
  {
   "cell_type": "code",
   "execution_count": 9,
   "outputs": [
    {
     "data": {
      "text/plain": "       index        ActorName    ActorID  ActorDOB  ActorHeight ActorGender  \\\n0         73   Toshiro Mifune  /m/0112yl      1920         1.74           M   \n1         95      Lily Tomlin  /m/011_3s      1939         1.73           F   \n2        118  Vivien Merchant  /m/011_c4      1929          NaN           F   \n3        127   Chester Morris  /m/011_pk      1901          NaN           M   \n5        442    Jackie Cooper  /m/012c6x      1922          NaN           M   \n...      ...              ...        ...       ...          ...         ...   \n1416  201561        Sean Penn   /m/0sz28      1960         1.77           M   \n1417  201562        Sean Penn   /m/0sz28      1960         1.77           M   \n1419  201946  Anthony Hopkins    /m/0z4s      1937         1.74           M   \n1420  201955  Anthony Hopkins    /m/0z4s      1937         1.74           M   \n1423  202022    Paul Giamatti   /m/0zcbl      1967         1.74           M   \n\n      ActorAgeAtMovieRelease  Cannes  Berlin  Venice  ...   NumVotes  \\\n0                       41.0       0       0       1  ...   128624.0   \n1                       37.0       0       1       0  ...     3134.0   \n2                       37.0       0       0       0  ...    15474.0   \n3                       28.0       0       0       0  ...      906.0   \n5                        8.0       0       0       0  ...        NaN   \n...                      ...     ...     ...     ...  ...        ...   \n1416                    42.0       0       0       0  ...   475331.0   \n1417                    43.0       0       0       1  ...   243422.0   \n1419                    53.0       0       0       0  ...  1505617.0   \n1420                    55.0       0       0       0  ...    81357.0   \n1423                    37.0       0       0       0  ...   195086.0   \n\n      MovieBoxOfficeRevenue InflationCoeff  InflationCorrectedRevenue  \\\n0                       NaN       9.065060                        NaN   \n1                       NaN       4.470833                        NaN   \n2                       NaN       8.348234                        NaN   \n3                       NaN            NaN                        NaN   \n5                       NaN            NaN                        NaN   \n...                     ...            ...                        ...   \n1416            156822020.0       1.472995               2.309981e+08   \n1417             60427839.0       1.472995               8.900992e+07   \n1419            272742922.0       1.989621               5.426549e+08   \n1420             63954968.0       1.875764               1.199644e+08   \n1423            108539911.0       1.387513               1.506006e+08   \n\n                                            WindowValue PeriodTag  \\\n0                                 [Adventure, Thriller]  Thriller   \n1     [Action, Adventure, Comedy, Crime, Detective, ...   Romance   \n2                                             [Romance]   Romance   \n3                                    [Action, Thriller]  Thriller   \n5                                              [Comedy]    Comedy   \n...                                                 ...       ...   \n1416                                         [Thriller]  Thriller   \n1417                                         [Thriller]  Thriller   \n1419                                  [Crime, Thriller]     Crime   \n1420                                          [Romance]   Romance   \n1423                                         [Thriller]   Romance   \n\n     PeriodChange ChangeCounts  Awarded  intersect  \n0               0            9     True       True  \n1               0            1     True       True  \n2               0            3     True       True  \n3               1            9     True       True  \n5               0            9     True       True  \n...           ...          ...      ...        ...  \n1416            0           10     True       True  \n1417            0           10     True       True  \n1419            0           30     True       True  \n1420            0           30     True       True  \n1423            1           11     True       True  \n\n[1071 rows x 29 columns]",
      "text/html": "<div>\n<style scoped>\n    .dataframe tbody tr th:only-of-type {\n        vertical-align: middle;\n    }\n\n    .dataframe tbody tr th {\n        vertical-align: top;\n    }\n\n    .dataframe thead th {\n        text-align: right;\n    }\n</style>\n<table border=\"1\" class=\"dataframe\">\n  <thead>\n    <tr style=\"text-align: right;\">\n      <th></th>\n      <th>index</th>\n      <th>ActorName</th>\n      <th>ActorID</th>\n      <th>ActorDOB</th>\n      <th>ActorHeight</th>\n      <th>ActorGender</th>\n      <th>ActorAgeAtMovieRelease</th>\n      <th>Cannes</th>\n      <th>Berlin</th>\n      <th>Venice</th>\n      <th>...</th>\n      <th>NumVotes</th>\n      <th>MovieBoxOfficeRevenue</th>\n      <th>InflationCoeff</th>\n      <th>InflationCorrectedRevenue</th>\n      <th>WindowValue</th>\n      <th>PeriodTag</th>\n      <th>PeriodChange</th>\n      <th>ChangeCounts</th>\n      <th>Awarded</th>\n      <th>intersect</th>\n    </tr>\n  </thead>\n  <tbody>\n    <tr>\n      <th>0</th>\n      <td>73</td>\n      <td>Toshiro Mifune</td>\n      <td>/m/0112yl</td>\n      <td>1920</td>\n      <td>1.74</td>\n      <td>M</td>\n      <td>41.0</td>\n      <td>0</td>\n      <td>0</td>\n      <td>1</td>\n      <td>...</td>\n      <td>128624.0</td>\n      <td>NaN</td>\n      <td>9.065060</td>\n      <td>NaN</td>\n      <td>[Adventure, Thriller]</td>\n      <td>Thriller</td>\n      <td>0</td>\n      <td>9</td>\n      <td>True</td>\n      <td>True</td>\n    </tr>\n    <tr>\n      <th>1</th>\n      <td>95</td>\n      <td>Lily Tomlin</td>\n      <td>/m/011_3s</td>\n      <td>1939</td>\n      <td>1.73</td>\n      <td>F</td>\n      <td>37.0</td>\n      <td>0</td>\n      <td>1</td>\n      <td>0</td>\n      <td>...</td>\n      <td>3134.0</td>\n      <td>NaN</td>\n      <td>4.470833</td>\n      <td>NaN</td>\n      <td>[Action, Adventure, Comedy, Crime, Detective, ...</td>\n      <td>Romance</td>\n      <td>0</td>\n      <td>1</td>\n      <td>True</td>\n      <td>True</td>\n    </tr>\n    <tr>\n      <th>2</th>\n      <td>118</td>\n      <td>Vivien Merchant</td>\n      <td>/m/011_c4</td>\n      <td>1929</td>\n      <td>NaN</td>\n      <td>F</td>\n      <td>37.0</td>\n      <td>0</td>\n      <td>0</td>\n      <td>0</td>\n      <td>...</td>\n      <td>15474.0</td>\n      <td>NaN</td>\n      <td>8.348234</td>\n      <td>NaN</td>\n      <td>[Romance]</td>\n      <td>Romance</td>\n      <td>0</td>\n      <td>3</td>\n      <td>True</td>\n      <td>True</td>\n    </tr>\n    <tr>\n      <th>3</th>\n      <td>127</td>\n      <td>Chester Morris</td>\n      <td>/m/011_pk</td>\n      <td>1901</td>\n      <td>NaN</td>\n      <td>M</td>\n      <td>28.0</td>\n      <td>0</td>\n      <td>0</td>\n      <td>0</td>\n      <td>...</td>\n      <td>906.0</td>\n      <td>NaN</td>\n      <td>NaN</td>\n      <td>NaN</td>\n      <td>[Action, Thriller]</td>\n      <td>Thriller</td>\n      <td>1</td>\n      <td>9</td>\n      <td>True</td>\n      <td>True</td>\n    </tr>\n    <tr>\n      <th>5</th>\n      <td>442</td>\n      <td>Jackie Cooper</td>\n      <td>/m/012c6x</td>\n      <td>1922</td>\n      <td>NaN</td>\n      <td>M</td>\n      <td>8.0</td>\n      <td>0</td>\n      <td>0</td>\n      <td>0</td>\n      <td>...</td>\n      <td>NaN</td>\n      <td>NaN</td>\n      <td>NaN</td>\n      <td>NaN</td>\n      <td>[Comedy]</td>\n      <td>Comedy</td>\n      <td>0</td>\n      <td>9</td>\n      <td>True</td>\n      <td>True</td>\n    </tr>\n    <tr>\n      <th>...</th>\n      <td>...</td>\n      <td>...</td>\n      <td>...</td>\n      <td>...</td>\n      <td>...</td>\n      <td>...</td>\n      <td>...</td>\n      <td>...</td>\n      <td>...</td>\n      <td>...</td>\n      <td>...</td>\n      <td>...</td>\n      <td>...</td>\n      <td>...</td>\n      <td>...</td>\n      <td>...</td>\n      <td>...</td>\n      <td>...</td>\n      <td>...</td>\n      <td>...</td>\n      <td>...</td>\n    </tr>\n    <tr>\n      <th>1416</th>\n      <td>201561</td>\n      <td>Sean Penn</td>\n      <td>/m/0sz28</td>\n      <td>1960</td>\n      <td>1.77</td>\n      <td>M</td>\n      <td>42.0</td>\n      <td>0</td>\n      <td>0</td>\n      <td>0</td>\n      <td>...</td>\n      <td>475331.0</td>\n      <td>156822020.0</td>\n      <td>1.472995</td>\n      <td>2.309981e+08</td>\n      <td>[Thriller]</td>\n      <td>Thriller</td>\n      <td>0</td>\n      <td>10</td>\n      <td>True</td>\n      <td>True</td>\n    </tr>\n    <tr>\n      <th>1417</th>\n      <td>201562</td>\n      <td>Sean Penn</td>\n      <td>/m/0sz28</td>\n      <td>1960</td>\n      <td>1.77</td>\n      <td>M</td>\n      <td>43.0</td>\n      <td>0</td>\n      <td>0</td>\n      <td>1</td>\n      <td>...</td>\n      <td>243422.0</td>\n      <td>60427839.0</td>\n      <td>1.472995</td>\n      <td>8.900992e+07</td>\n      <td>[Thriller]</td>\n      <td>Thriller</td>\n      <td>0</td>\n      <td>10</td>\n      <td>True</td>\n      <td>True</td>\n    </tr>\n    <tr>\n      <th>1419</th>\n      <td>201946</td>\n      <td>Anthony Hopkins</td>\n      <td>/m/0z4s</td>\n      <td>1937</td>\n      <td>1.74</td>\n      <td>M</td>\n      <td>53.0</td>\n      <td>0</td>\n      <td>0</td>\n      <td>0</td>\n      <td>...</td>\n      <td>1505617.0</td>\n      <td>272742922.0</td>\n      <td>1.989621</td>\n      <td>5.426549e+08</td>\n      <td>[Crime, Thriller]</td>\n      <td>Crime</td>\n      <td>0</td>\n      <td>30</td>\n      <td>True</td>\n      <td>True</td>\n    </tr>\n    <tr>\n      <th>1420</th>\n      <td>201955</td>\n      <td>Anthony Hopkins</td>\n      <td>/m/0z4s</td>\n      <td>1937</td>\n      <td>1.74</td>\n      <td>M</td>\n      <td>55.0</td>\n      <td>0</td>\n      <td>0</td>\n      <td>0</td>\n      <td>...</td>\n      <td>81357.0</td>\n      <td>63954968.0</td>\n      <td>1.875764</td>\n      <td>1.199644e+08</td>\n      <td>[Romance]</td>\n      <td>Romance</td>\n      <td>0</td>\n      <td>30</td>\n      <td>True</td>\n      <td>True</td>\n    </tr>\n    <tr>\n      <th>1423</th>\n      <td>202022</td>\n      <td>Paul Giamatti</td>\n      <td>/m/0zcbl</td>\n      <td>1967</td>\n      <td>1.74</td>\n      <td>M</td>\n      <td>37.0</td>\n      <td>0</td>\n      <td>0</td>\n      <td>0</td>\n      <td>...</td>\n      <td>195086.0</td>\n      <td>108539911.0</td>\n      <td>1.387513</td>\n      <td>1.506006e+08</td>\n      <td>[Thriller]</td>\n      <td>Romance</td>\n      <td>1</td>\n      <td>11</td>\n      <td>True</td>\n      <td>True</td>\n    </tr>\n  </tbody>\n</table>\n<p>1071 rows × 29 columns</p>\n</div>"
     },
     "execution_count": 9,
     "metadata": {},
     "output_type": "execute_result"
    }
   ],
   "source": [
    "df_reindexed_selected"
   ],
   "metadata": {
    "collapsed": false,
    "ExecuteTime": {
     "end_time": "2023-12-22T09:34:27.839486500Z",
     "start_time": "2023-12-22T09:34:27.810078300Z"
    }
   }
  },
  {
   "cell_type": "code",
   "execution_count": 32,
   "outputs": [],
   "source": [
    "periods_around_award = []\n",
    "\n",
    "for id, row in df_reindexed_selected.iterrows():\n",
    "\n",
    "    df_actor = df[df.ActorID==row.ActorID]\n",
    "\n",
    "    period_tag_before_after = {}\n",
    "    awarded_index = row['index']\n",
    "    awarded_tag = row.PeriodTag\n",
    "    period_tag_before_after[1] = awarded_tag\n",
    "    period_tags = df_actor.PeriodTag\n",
    "\n",
    "    # find period tag before\n",
    "    index = awarded_index\n",
    "    while index > period_tags.index.min():\n",
    "        index -= 1\n",
    "        tag_before = period_tags[index]\n",
    "        if tag_before != awarded_tag:\n",
    "            period_tag_before_after[0] = tag_before\n",
    "            break\n",
    "\n",
    "    # find period tag after\n",
    "    index = awarded_index\n",
    "    while index < period_tags.index.max():\n",
    "        index += 1\n",
    "        tag_after = period_tags[index]\n",
    "        if tag_after != awarded_tag:\n",
    "            period_tag_before_after[2] = tag_after\n",
    "            break\n",
    "\n",
    "    if len(period_tag_before_after) > 1:\n",
    "        periods_around_award.append(period_tag_before_after)\n",
    "\n",
    "with open(\"periods_around_award.json\", \"w\") as f:\n",
    "    json.dump(periods_around_award, f)"
   ],
   "metadata": {
    "collapsed": false,
    "ExecuteTime": {
     "end_time": "2023-12-22T10:09:25.598611400Z",
     "start_time": "2023-12-22T10:09:15.084486900Z"
    }
   }
  }
 ],
 "metadata": {
  "kernelspec": {
   "display_name": "Python 3",
   "language": "python",
   "name": "python3"
  },
  "language_info": {
   "codemirror_mode": {
    "name": "ipython",
    "version": 2
   },
   "file_extension": ".py",
   "mimetype": "text/x-python",
   "name": "python",
   "nbconvert_exporter": "python",
   "pygments_lexer": "ipython2",
   "version": "2.7.6"
  }
 },
 "nbformat": 4,
 "nbformat_minor": 0
}
